{
  "nbformat": 4,
  "nbformat_minor": 0,
  "metadata": {
    "colab": {
      "name": "CSx101.Lab2-1.ipynb",
      "provenance": [],
      "collapsed_sections": [],
      "include_colab_link": true
    },
    "kernelspec": {
      "name": "python3",
      "display_name": "Python 3"
    }
  },
  "cells": [
    {
      "cell_type": "markdown",
      "metadata": {
        "id": "view-in-github",
        "colab_type": "text"
      },
      "source": [
        "<a href=\"https://colab.research.google.com/github/ngoc2702/CSx101-A1-2021-03/blob/main/CSx101_Lab2_1.ipynb\" target=\"_parent\"><img src=\"https://colab.research.google.com/assets/colab-badge.svg\" alt=\"Open In Colab\"/></a>"
      ]
    },
    {
      "cell_type": "markdown",
      "metadata": {
        "id": "qYjoagGcuYmq"
      },
      "source": [
        "# CSx101 - TƯ DUY LẬP TRÌNH VỚI PYTHON\n",
        "\n",
        "Lớp CSx101-A1"
      ]
    },
    {
      "cell_type": "markdown",
      "metadata": {
        "id": "9CUHdHZe1Q2F"
      },
      "source": [
        "## Chạy các câu lệnh dưới đây để kiểm tra xem có đúng cú pháp không"
      ]
    },
    {
      "cell_type": "code",
      "metadata": {
        "id": "75OHdlAkzRRW",
        "colab": {
          "base_uri": "https://localhost:8080/",
          "height": 182
        },
        "outputId": "30e18dbf-468c-40f9-b5b5-6b381a15aa6b"
      },
      "source": [
        " 3 + \"USD\"\n",
        " "
      ],
      "execution_count": 1,
      "outputs": [
        {
          "output_type": "error",
          "ename": "TypeError",
          "evalue": "ignored",
          "traceback": [
            "\u001b[0;31m---------------------------------------------------------------------------\u001b[0m",
            "\u001b[0;31mTypeError\u001b[0m                                 Traceback (most recent call last)",
            "\u001b[0;32m<ipython-input-1-2529dddefde9>\u001b[0m in \u001b[0;36m<module>\u001b[0;34m()\u001b[0m\n\u001b[0;32m----> 1\u001b[0;31m \u001b[0;36m3\u001b[0m \u001b[0;34m+\u001b[0m \u001b[0;34m\"USD\"\u001b[0m\u001b[0;34m\u001b[0m\u001b[0;34m\u001b[0m\u001b[0m\n\u001b[0m\u001b[1;32m      2\u001b[0m \u001b[0;34m\u001b[0m\u001b[0m\n",
            "\u001b[0;31mTypeError\u001b[0m: unsupported operand type(s) for +: 'int' and 'str'"
          ]
        }
      ]
    },
    {
      "cell_type": "code",
      "metadata": {
        "id": "Rk-3yHVazWf6"
      },
      "source": [
        "3+2"
      ],
      "execution_count": null,
      "outputs": []
    },
    {
      "cell_type": "code",
      "metadata": {
        "id": "QfjAATq7zZLY"
      },
      "source": [
        "\"3\" + \"USD\"\u001c\u001c"
      ],
      "execution_count": null,
      "outputs": []
    },
    {
      "cell_type": "markdown",
      "metadata": {
        "id": "leCn2xFwubkR"
      },
      "source": [
        "## Kiểm tra kiểu dữ liệu"
      ]
    },
    {
      "cell_type": "code",
      "metadata": {
        "id": "N2uyMnza1Bkc"
      },
      "source": [
        "type(3)"
      ],
      "execution_count": null,
      "outputs": []
    },
    {
      "cell_type": "code",
      "metadata": {
        "id": "oz59rx9g1Fx6"
      },
      "source": [
        "type(3.0)"
      ],
      "execution_count": null,
      "outputs": []
    },
    {
      "cell_type": "code",
      "metadata": {
        "id": "_DieJosU1IG3"
      },
      "source": [
        "type(\"3\")\u001c"
      ],
      "execution_count": null,
      "outputs": []
    },
    {
      "cell_type": "markdown",
      "metadata": {
        "id": "CMIVvurg2OiU"
      },
      "source": [
        "## Chuyển kiểu dữ liệu (typecast)"
      ]
    },
    {
      "cell_type": "code",
      "metadata": {
        "id": "-3ZMFj3r2TgX"
      },
      "source": [
        "int(3.5)"
      ],
      "execution_count": null,
      "outputs": []
    },
    {
      "cell_type": "code",
      "metadata": {
        "id": "zfp14kqU2Vkq"
      },
      "source": [
        "str(\"3.5\"\u001c)"
      ],
      "execution_count": null,
      "outputs": []
    },
    {
      "cell_type": "markdown",
      "metadata": {
        "id": "cCyfKs0q4h-X"
      },
      "source": [
        "## Kiểm tra cách đặt tên biến có hợp lệ"
      ]
    },
    {
      "cell_type": "code",
      "metadata": {
        "id": "1pfCY9w04nCN"
      },
      "source": [
        "balance = 5"
      ],
      "execution_count": null,
      "outputs": []
    },
    {
      "cell_type": "code",
      "metadata": {
        "id": "t2h69qZ34uwA"
      },
      "source": [
        "_balance = 5"
      ],
      "execution_count": null,
      "outputs": []
    },
    {
      "cell_type": "code",
      "metadata": {
        "id": "GFsLuPKH4zt9"
      },
      "source": [
        "current_balance = 5"
      ],
      "execution_count": null,
      "outputs": []
    },
    {
      "cell_type": "code",
      "metadata": {
        "id": "k7TOT7Y942bm"
      },
      "source": [
        "current balance = 5"
      ],
      "execution_count": null,
      "outputs": []
    },
    {
      "cell_type": "code",
      "metadata": {
        "id": "JwuKGH6R5Ni_"
      },
      "source": [
        "'current_balance' = 5\u001c"
      ],
      "execution_count": null,
      "outputs": []
    },
    {
      "cell_type": "code",
      "metadata": {
        "id": "mvNL4sL35Uzy"
      },
      "source": [
        "4balance = 5"
      ],
      "execution_count": null,
      "outputs": []
    },
    {
      "cell_type": "code",
      "metadata": {
        "id": "XyPwFwo35Yoj"
      },
      "source": [
        "total_$um = 5"
      ],
      "execution_count": null,
      "outputs": []
    },
    {
      "cell_type": "markdown",
      "metadata": {
        "id": "ICRnRcNX527W"
      },
      "source": [
        "## Nhập dữ liệu từ thiết bị nhập chuẩn (bàn phím)"
      ]
    },
    {
      "cell_type": "code",
      "metadata": {
        "id": "bXZT52gN568M"
      },
      "source": [
        "a = input()"
      ],
      "execution_count": null,
      "outputs": []
    },
    {
      "cell_type": "code",
      "metadata": {
        "id": "MOFw7Bd7srX6"
      },
      "source": [
        "a = input('Nhap so nguyen: '\u001c)"
      ],
      "execution_count": null,
      "outputs": []
    },
    {
      "cell_type": "markdown",
      "metadata": {
        "id": "IQX-kblX6FFL"
      },
      "source": [
        "## Xuất dữ liệu ra thiết bị xuất chuẩn (màn hình)"
      ]
    },
    {
      "cell_type": "code",
      "metadata": {
        "id": "9-pRgu5w6P3w"
      },
      "source": [
        "a = 5\n",
        "print(a)\n",
        "print('Hello World')"
      ],
      "execution_count": null,
      "outputs": []
    },
    {
      "cell_type": "markdown",
      "metadata": {
        "id": "B9JahOfd6Zj4"
      },
      "source": [
        "## Lệnh rẽ nhánh"
      ]
    },
    {
      "cell_type": "code",
      "metadata": {
        "id": "bD8JdWgE6oU4"
      },
      "source": [
        "x = int(input(\"Please enter an integer: \"))\n",
        "if x < 0:\n",
        "  x = 0\n",
        "  print('Negative changed to zero')\n",
        "elif x == 0:\n",
        "  print('Zero')\n",
        "elif x == 1:\n",
        "  print('Single')\n",
        "else:\n",
        "  print('More')"
      ],
      "execution_count": null,
      "outputs": []
    },
    {
      "cell_type": "markdown",
      "metadata": {
        "id": "ACrxB198aOq_"
      },
      "source": [
        "## Lệnh lặp"
      ]
    },
    {
      "cell_type": "code",
      "metadata": {
        "id": "k3GGvAunjE3U"
      },
      "source": [
        "for i in range(5):\n",
        "  print(i)"
      ],
      "execution_count": null,
      "outputs": []
    },
    {
      "cell_type": "code",
      "metadata": {
        "id": "mNX5Dviki6o4"
      },
      "source": [
        "words = ['cat', 'window', 'defenestrate']\n",
        "for w in words:\n",
        "  print(w, len(w))"
      ],
      "execution_count": null,
      "outputs": []
    },
    {
      "cell_type": "code",
      "metadata": {
        "id": "torDiDouiYYp"
      },
      "source": [
        "for num in range(2, 10):\n",
        "  if num % 2 == 0:\n",
        "    print(\"Found an even number\", num)\n",
        "    continue\n",
        "  print(\"Found an odd number\", num)"
      ],
      "execution_count": null,
      "outputs": []
    },
    {
      "cell_type": "code",
      "metadata": {
        "id": "fGvT4pXBjQof"
      },
      "source": [
        "a = ['Mary', 'had', 'a', 'little', 'lamb']\n",
        "for i in range(len(a)):\n",
        "  print(i, a[i])"
      ],
      "execution_count": null,
      "outputs": []
    }
  ]
}