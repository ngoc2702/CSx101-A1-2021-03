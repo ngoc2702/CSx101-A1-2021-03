{
  "nbformat": 4,
  "nbformat_minor": 0,
  "metadata": {
    "colab": {
      "name": "CSx101.Lab2-3.ipynb",
      "provenance": [],
      "collapsed_sections": [],
      "include_colab_link": true
    },
    "kernelspec": {
      "name": "python3",
      "display_name": "Python 3"
    }
  },
  "cells": [
    {
      "cell_type": "markdown",
      "metadata": {
        "id": "view-in-github",
        "colab_type": "text"
      },
      "source": [
        "<a href=\"https://colab.research.google.com/github/ngoc2702/CSx101-A1-2021-03/blob/main/CSx101_Lab2_3.ipynb\" target=\"_parent\"><img src=\"https://colab.research.google.com/assets/colab-badge.svg\" alt=\"Open In Colab\"/></a>"
      ]
    },
    {
      "cell_type": "markdown",
      "metadata": {
        "id": "qYjoagGcuYmq"
      },
      "source": [
        "# CSx101 - TƯ DUY LẬP TRÌNH VỚI PYTHON\n",
        "\n",
        "Lớp CSx101-A1"
      ]
    },
    {
      "cell_type": "markdown",
      "metadata": {
        "id": "9CUHdHZe1Q2F"
      },
      "source": [
        "## Số lớn nhất - nhỏ nhất của dãy số\n",
        "\n",
        "Viết hàm trả về số lớn nhất, và số nhỏ nhất của một dãy số"
      ]
    },
    {
      "cell_type": "code",
      "metadata": {
        "id": "Rk-3yHVazWf6",
        "colab": {
          "base_uri": "https://localhost:8080/"
        },
        "outputId": "33a5c51e-960a-4505-c896-6ccefd98394e"
      },
      "source": [
        "def findMinMax(arr):\n",
        "  # my code here\n",
        "  return min(arr), max(arr)\n",
        "\n",
        "arr = [2, 3, 50, 6, -1, 100, -27, 499]\n",
        "min, max = findMinMax(arr)\n",
        "print(min)\n",
        "print(max)\n",
        "\n",
        "# Kết quả"
      ],
      "execution_count": 1,
      "outputs": [
        {
          "output_type": "stream",
          "name": "stdout",
          "text": [
            "-27\n",
            "499\n"
          ]
        }
      ]
    },
    {
      "cell_type": "markdown",
      "metadata": {
        "id": "nmHh7xWnhhp_"
      },
      "source": [
        "## Hoán đổi vị trí phần tử đầu và phần cuối của một dãy số\n",
        "\n",
        "Viết hoán đổi phần tử đầu và phần tử cuối của một dãy số\n",
        "\n",
        "Ví dụ:\n",
        "* Input: 1 2 3 4 5\n",
        "* Output: 5 2 3 4 1"
      ]
    },
    {
      "cell_type": "code",
      "metadata": {
        "id": "QfjAATq7zZLY",
        "colab": {
          "base_uri": "https://localhost:8080/"
        },
        "outputId": "c985a9ed-ec89-429a-9957-d411533985b8"
      },
      "source": [
        "def swapList(arr):\n",
        "  # my code here\n",
        "  arr[0], arr[-1] = arr[-1], arr[0]\n",
        "  return arr\n",
        "\n",
        "arr = [2, 3, 50, 6, -1, 100, -27, 499]\n",
        "print(swapList(arr))"
      ],
      "execution_count": 2,
      "outputs": [
        {
          "output_type": "stream",
          "name": "stdout",
          "text": [
            "[499, 3, 50, 6, -1, 100, -27, 2]\n"
          ]
        }
      ]
    },
    {
      "cell_type": "markdown",
      "metadata": {
        "id": "leCn2xFwubkR"
      },
      "source": [
        "## Kiểm tra một phần tử có trong dãy số \n",
        "\n",
        "Viết hàm kiểm tra một phần tử có trong dãy số cho trước hay không\n",
        "\n",
        "Ví dụ:\n",
        "* Input: dãy số 1, 2, 3, 4, 5 và phần tử cần kiểm tra là 9\n",
        "* Output: False"
      ]
    },
    {
      "cell_type": "code",
      "metadata": {
        "id": "N2uyMnza1Bkc",
        "colab": {
          "base_uri": "https://localhost:8080/"
        },
        "outputId": "c5b006a6-bf43-4152-ad02-a5a265bb911f"
      },
      "source": [
        "def checkNumberExist(x, arr):\n",
        "  # my code here\n",
        "  return x in arr\n",
        "\n",
        "arr = [2, 3, 50, 6, -1, 100, -27, 499]\n",
        "x = 90\n",
        "print(checkNumberExist(x, arr))"
      ],
      "execution_count": 3,
      "outputs": [
        {
          "output_type": "stream",
          "name": "stdout",
          "text": [
            "False\n"
          ]
        }
      ]
    },
    {
      "cell_type": "markdown",
      "metadata": {
        "id": "mbBv-k2SkFVK"
      },
      "source": [
        "## Đảo ngược dãy số\n",
        "\n",
        "Viết hàm đảo ngược một dãy số\n",
        "\n",
        "Ví dụ: \n",
        "* Input: 1, 2, 3, 4, 5\n",
        "* Output: 5, 4, 3, 2, 1"
      ]
    },
    {
      "cell_type": "code",
      "metadata": {
        "id": "oz59rx9g1Fx6",
        "colab": {
          "base_uri": "https://localhost:8080/"
        },
        "outputId": "05eef0e1-5a38-457a-cf4b-45b3e34f0b44"
      },
      "source": [
        "def reverseList(arr):\n",
        "  # my code here\n",
        "  return arr[::-1]\n",
        "\n",
        "arr = [2, 3, 50, 6, -1, 100, -27, 499]\n",
        "print(reverseList(arr))"
      ],
      "execution_count": 4,
      "outputs": [
        {
          "output_type": "stream",
          "name": "stdout",
          "text": [
            "[499, -27, 100, -1, 6, 50, 3, 2]\n"
          ]
        }
      ]
    },
    {
      "cell_type": "markdown",
      "metadata": {
        "id": "CMIVvurg2OiU"
      },
      "source": [
        "## Số nguyên tố của dãy số\n",
        "\n",
        "Viết hàm trả về các số nguyên tố của một dãy số\n",
        "\n",
        "Ví dụ:\n",
        "* Input: 3, 7, 11, 12, 15\n",
        "* Output: 3, 7, 11"
      ]
    },
    {
      "cell_type": "code",
      "metadata": {
        "id": "-3ZMFj3r2TgX",
        "colab": {
          "base_uri": "https://localhost:8080/"
        },
        "outputId": "8260bc4e-da68-466c-e923-b5de5988ed86"
      },
      "source": [
        "def checkPrimeNumber(n): #code bài cũ\n",
        "  check = True\n",
        "  if n <= 1:\n",
        "    check = False\n",
        "  else:\n",
        "    for i in range(2, n):\n",
        "      if n%i == 0:\n",
        "        check = False\n",
        "        break\n",
        "  return check\n",
        "\n",
        "def findPrimeNumbers(arr):\n",
        "  # my code here\n",
        "  temp = []\n",
        "  for n in arr:\n",
        "    if checkPrimeNumber(n) == True:\n",
        "      temp.append(n)\n",
        "  return temp\n",
        "\n",
        "arr = [3, 7, 11, 12, 15]\n",
        "print(findPrimeNumbers(arr))"
      ],
      "execution_count": 5,
      "outputs": [
        {
          "output_type": "stream",
          "name": "stdout",
          "text": [
            "[3, 7, 11]\n"
          ]
        }
      ]
    },
    {
      "cell_type": "markdown",
      "metadata": {
        "id": "cCyfKs0q4h-X"
      },
      "source": [
        "## Đếm số lần xuất hiện của một phần tử trong dãy số\n",
        "\n",
        "Viết hàm đếm số lần xuất hiện của một phần tử trong dãy số\n",
        "\n",
        "Ví dụ:\n",
        "* Input: 1, 2, 4, 2, 6, 2, 5, 2 và 2\n",
        "* Output: 4 (số 2 xuất hiện 4 lần trong dãy số trên)\n"
      ]
    },
    {
      "cell_type": "code",
      "metadata": {
        "id": "1pfCY9w04nCN",
        "colab": {
          "base_uri": "https://localhost:8080/"
        },
        "outputId": "c3ad4e0f-2143-4e6e-8cd1-b080bd668af5"
      },
      "source": [
        "def countOccurences(x, arr):\n",
        "  # my code here\n",
        "  return arr.count(x)\n",
        "\n",
        "arr = [1, 2, 4, 2, 6, 2, 5, 2]\n",
        "x = 2\n",
        "print(countOccurences(x, arr))"
      ],
      "execution_count": 6,
      "outputs": [
        {
          "output_type": "stream",
          "name": "stdout",
          "text": [
            "4\n"
          ]
        }
      ]
    },
    {
      "cell_type": "markdown",
      "metadata": {
        "id": "IQX-kblX6FFL"
      },
      "source": [
        "## Loại bỏ các phần tử trùng\n",
        "\n",
        "Viết hàm loại bỏ các phần tử trùng của một dãy cho trước. Dãy trả về bao gồm các phần tử chỉ xuất hiện một lần\n",
        "\n",
        "* Input: 10, 20, 30, 20, 20, 30, 40, 50, -20, 60, 60, -20, -20\n",
        "* Output: 10, 20, 30, 40, 50, -20, 60\n"
      ]
    },
    {
      "cell_type": "code",
      "metadata": {
        "id": "9-pRgu5w6P3w",
        "colab": {
          "base_uri": "https://localhost:8080/"
        },
        "outputId": "7fc68fa4-3c4c-433d-c617-f4120ea0029c"
      },
      "source": [
        "def removeDuplicates(n):\n",
        "  # my code here\n",
        "  result = []\n",
        "  for i in n:\n",
        "    if i not in result:\n",
        "      result.append(i)\n",
        "  return result\n",
        "\n",
        "n = [10, 20, 30, 20, 20, 30, 40, 50, -20, 60, 60, -20, -20]\n",
        "print(removeDuplicates(n))"
      ],
      "execution_count": 7,
      "outputs": [
        {
          "output_type": "stream",
          "name": "stdout",
          "text": [
            "[10, 20, 30, 40, 50, -20, 60]\n"
          ]
        }
      ]
    },
    {
      "cell_type": "markdown",
      "metadata": {
        "id": "5A5TZTYJ2Kae"
      },
      "source": [
        "## Tìm N số lớn nhất trong dãy\n",
        "\n",
        "Viết hàm trả về N số lớn nhất trong dãy cho trước\n",
        "\n",
        "* Input: 4, 5, 1, 2, 9 và N=2\n",
        "* Output: 9, 5"
      ]
    },
    {
      "cell_type": "code",
      "metadata": {
        "id": "K2ydHtRR3ebu",
        "colab": {
          "base_uri": "https://localhost:8080/"
        },
        "outputId": "14828013-8344-4bdc-bd99-8441407c077c"
      },
      "source": [
        "def findNLargestElements(N, arr):\n",
        "  # my code here\n",
        "  arr.sort(reverse = True)\n",
        "  return arr[:N]\n",
        "\n",
        "arr = [4, 5, 1, 2, 9]\n",
        "N = 2\n",
        "print(findNLargestElements(N, arr))"
      ],
      "execution_count": 8,
      "outputs": [
        {
          "output_type": "stream",
          "name": "stdout",
          "text": [
            "[9, 5]\n"
          ]
        }
      ]
    },
    {
      "cell_type": "markdown",
      "metadata": {
        "id": "xXSKpzjJ2Wt4"
      },
      "source": [
        "## Tính tổng tích luỹ\n",
        "\n",
        "Viết hàm tính tổng tích luỹ của một dãy. \n",
        "\n",
        "Phần tử thứ $i$ của dãy đầu ra bằng tổng các phần tử $i, i-1, i-2, ...$ của dãy đầu vào\n",
        "\n",
        "* Input: 10, 20, 30, 40, 50\n",
        "* Output: 10, 30, 60, 100, 150"
      ]
    },
    {
      "cell_type": "code",
      "metadata": {
        "id": "RfQ2N2Ty3oLy",
        "colab": {
          "base_uri": "https://localhost:8080/"
        },
        "outputId": "039f6610-f904-460f-90c0-478a860d97af"
      },
      "source": [
        "def calcCumulativeSum(arr):\n",
        "  # my code here\n",
        "  result = [arr[0]]\n",
        "  for i in range(1, len(arr)):\n",
        "    result.append(result[i-1] + arr[i])\n",
        "  return result\n",
        "\n",
        "arr = [10, 20, 30, 40, 50]\n",
        "print(calcCumulativeSum(arr))"
      ],
      "execution_count": 9,
      "outputs": [
        {
          "output_type": "stream",
          "name": "stdout",
          "text": [
            "[10, 30, 60, 100, 150]\n"
          ]
        }
      ]
    },
    {
      "cell_type": "markdown",
      "metadata": {
        "id": "a72UHNxW3OmA"
      },
      "source": [
        "## Xoá một số phần tử của dãy\n",
        "\n",
        "Viết hàm xoá một số phần tử của dãy\n",
        "\n",
        "* Input: 12, 15, 3, 10 và 12 và 3 là các phần tử cần xoá\n",
        "* Output: 15, 10"
      ]
    },
    {
      "cell_type": "code",
      "metadata": {
        "id": "PkwKGvI74AHU",
        "colab": {
          "base_uri": "https://localhost:8080/"
        },
        "outputId": "73cb3185-0700-4ebf-f474-dd999ef68c0a"
      },
      "source": [
        "def removeElemetns(arrInput, arrRemove):\n",
        "  # my code here\n",
        "  result = [i for i in arrInput if i not in arrRemove]\n",
        "  return result\n",
        "\n",
        "arrInput = [12, 15, 3, 10]\n",
        "arrRemove = [12, 3]\n",
        "print(removeElemetns(arrInput, arrRemove))"
      ],
      "execution_count": 10,
      "outputs": [
        {
          "output_type": "stream",
          "name": "stdout",
          "text": [
            "[15, 10]\n"
          ]
        }
      ]
    }
  ]
}